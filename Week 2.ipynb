{
 "cells": [
  {
   "cell_type": "code",
   "execution_count": 2,
   "id": "81937070",
   "metadata": {},
   "outputs": [
    {
     "name": "stdout",
     "output_type": "stream",
     "text": [
      "Enter i: 5\n",
      "LHS:  31\n",
      "RHS:  31\n",
      "Result LHS = RHS? :  True\n"
     ]
    }
   ],
   "source": [
    "LHS = 1\n",
    "num = 1\n",
    "i = int(input(\"Enter i: \"))\n",
    "\n",
    "for count in range(1, i):\n",
    "    num = num * 2\n",
    "    LHS = LHS + num\n",
    "print(\"LHS: \", LHS)\n",
    "RHS = num * 2 - 1\n",
    "print(\"RHS: \", RHS)\n",
    "\n",
    "print(\"Result LHS = RHS? : \", LHS == RHS)"
   ]
  },
  {
   "cell_type": "code",
   "execution_count": 4,
   "id": "1c78eb4b",
   "metadata": {},
   "outputs": [
    {
     "name": "stdout",
     "output_type": "stream",
     "text": [
      "Enter loop end index: 5\n",
      "LHS:  63\n",
      "RHS:  31\n",
      "Result LHS = RHS? :  False\n"
     ]
    }
   ],
   "source": [
    "LHS = 1\n",
    "num = 1\n",
    "end = int(input(\"Enter loop end index: \"))\n",
    "\n",
    "for count in range(0, end):\n",
    "    num = num * 2\n",
    "    LHS += num\n",
    "print(\"LHS: \", LHS)\n",
    "RHS = num - 1\n",
    "print(\"RHS: \", RHS)\n",
    "\n",
    "print(\"Result LHS = RHS? : \", LHS == RHS)\n"
   ]
  },
  {
   "cell_type": "code",
   "execution_count": 5,
   "id": "7eed7f98",
   "metadata": {},
   "outputs": [
    {
     "name": "stdout",
     "output_type": "stream",
     "text": [
      "2\n",
      "3\n",
      "4\n",
      "5\n"
     ]
    }
   ],
   "source": [
    "num = 1\n",
    "for i in range (1,5):\n",
    "    num += 1\n",
    "    print(num)"
   ]
  },
  {
   "cell_type": "code",
   "execution_count": null,
   "id": "90c74c0c",
   "metadata": {},
   "outputs": [],
   "source": []
  }
 ],
 "metadata": {
  "kernelspec": {
   "display_name": "Python 3 (ipykernel)",
   "language": "python",
   "name": "python3"
  },
  "language_info": {
   "codemirror_mode": {
    "name": "ipython",
    "version": 3
   },
   "file_extension": ".py",
   "mimetype": "text/x-python",
   "name": "python",
   "nbconvert_exporter": "python",
   "pygments_lexer": "ipython3",
   "version": "3.9.12"
  }
 },
 "nbformat": 4,
 "nbformat_minor": 5
}
