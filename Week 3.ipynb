{
 "cells": [
  {
   "cell_type": "markdown",
   "id": "b33d387e",
   "metadata": {},
   "source": [
    "##### 1. Suppose that an array s contains float values write a Python program to print the sum of the first m float elements of s."
   ]
  },
  {
   "cell_type": "code",
   "execution_count": 27,
   "id": "957e823f",
   "metadata": {},
   "outputs": [
    {
     "name": "stdout",
     "output_type": "stream",
     "text": [
      "Value of m is 6\n",
      "Total sum is 27.7\n"
     ]
    }
   ],
   "source": [
    "import random\n",
    "\n",
    "float_array = [2.5, 4.2, 3.5, 6.9, 9.2, 1.4, 0.9, 21.2]\n",
    "min_m = 1\n",
    "max_m = len(float_array)\n",
    "m = random.randint(min_m, max_m)\n",
    "\n",
    "total_sum = sum(float_array[:m])\n",
    "\n",
    "print(\"Value of m is\", m)\n",
    "print(\"Total sum is\", total_sum)"
   ]
  },
  {
   "cell_type": "markdown",
   "id": "ccad122f",
   "metadata": {},
   "source": [
    "##### 2. Write a Python algorithm to print the smallest and largest values in the array s that stores m unique elements"
   ]
  },
  {
   "cell_type": "code",
   "execution_count": 33,
   "id": "da9d6279",
   "metadata": {},
   "outputs": [
    {
     "name": "stdout",
     "output_type": "stream",
     "text": [
      "Enter the number of unique elements: 11\n",
      "Smallest value is 13.78\n",
      "Largest value is 99.96\n"
     ]
    }
   ],
   "source": [
    "import random\n",
    "\n",
    "float_array = []\n",
    "m = int(input(\"Enter the number of unique elements: \"))\n",
    "\n",
    "for i in range(0, m):\n",
    "    float_array.append(round(random.uniform(0, 100), 2))\n",
    "    \n",
    "    smallest = largest = float_array[0]    # assume first item to be smallest and largest\n",
    "\n",
    "for num in float_array:     \n",
    "    if num < smallest:\n",
    "        smallest = num\n",
    "    elif num > largest:\n",
    "        largest = num\n",
    "        \n",
    "print(\"Smallest value is\", smallest)\n",
    "print(\"Largest value is\", largest)"
   ]
  },
  {
   "cell_type": "markdown",
   "id": "0b75fbdc",
   "metadata": {},
   "source": [
    "##### 3. Given an integer array s with length n > 1 such that s[i] <= s[i+1] for all i. Write a Python program to insert an input value x into the array so that the property s[i] <= s[i+1] is maintained for all i."
   ]
  },
  {
   "cell_type": "code",
   "execution_count": 35,
   "id": "7a0fa488",
   "metadata": {},
   "outputs": [
    {
     "name": "stdout",
     "output_type": "stream",
     "text": [
      "Original Array is [1, 3, 13, 25, 38, 50, 66, 76, 88]\n",
      "Enter an integer value for x: 21\n",
      "Modified Array is [1, 3, 13, 21, 25, 38, 50, 66, 76, 88]\n"
     ]
    }
   ],
   "source": [
    "# Binary Search Algorithm\n",
    "\n",
    "import random\n",
    "\n",
    "int_array = [1,3,13,25,38,50,66,76,88]\n",
    "print(\"Original Array is\", int_array)\n",
    "x = int(input(\"Enter an integer value for x: \"))\n",
    "\n",
    "\n",
    "left = 0\n",
    "right = len(int_array) - 1\n",
    "\n",
    "while left <= right:\n",
    "    mid = left + (right - left) // 2\n",
    "    \n",
    "    if int_array[mid] <= x:\n",
    "        left = mid + 1\n",
    "    else:\n",
    "        right = mid -1\n",
    "        \n",
    "int_array.insert(left, x)\n",
    "\n",
    "print(\"Modified Array is\", int_array)\n",
    "    "
   ]
  },
  {
   "cell_type": "code",
   "execution_count": null,
   "id": "e3f44b47",
   "metadata": {},
   "outputs": [],
   "source": []
  }
 ],
 "metadata": {
  "kernelspec": {
   "display_name": "Python 3 (ipykernel)",
   "language": "python",
   "name": "python3"
  },
  "language_info": {
   "codemirror_mode": {
    "name": "ipython",
    "version": 3
   },
   "file_extension": ".py",
   "mimetype": "text/x-python",
   "name": "python",
   "nbconvert_exporter": "python",
   "pygments_lexer": "ipython3",
   "version": "3.9.12"
  }
 },
 "nbformat": 4,
 "nbformat_minor": 5
}
