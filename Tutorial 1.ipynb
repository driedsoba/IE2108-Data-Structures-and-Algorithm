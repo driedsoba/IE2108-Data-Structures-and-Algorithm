{
 "cells": [
  {
   "cell_type": "code",
   "execution_count": 5,
   "id": "efb4e502",
   "metadata": {},
   "outputs": [
    {
     "name": "stdout",
     "output_type": "stream",
     "text": [
      "Hello Singapore!\n",
      "I'm learning Python.\n",
      "10\n",
      "10.2\n"
     ]
    }
   ],
   "source": [
    "p = \"Hello Singapore!\"\n",
    "pp = \"I'm learning Python.\"\n",
    "q = 10\n",
    "r = 10.2\n",
    "\n",
    "print(p, \"\\n\" ,pp,\"\\n\", q, \"\\n\", r, sep =\"\")"
   ]
  },
  {
   "cell_type": "code",
   "execution_count": 4,
   "id": "32b4b8c1",
   "metadata": {},
   "outputs": [
    {
     "name": "stdout",
     "output_type": "stream",
     "text": [
      "<class 'str'>\n",
      "<class 'str'>\n",
      "<class 'int'>\n",
      "<class 'float'>\n"
     ]
    }
   ],
   "source": [
    "print(type(p))\n",
    "print(type(pp))\n",
    "print(type(q))\n",
    "print(type(r))"
   ]
  },
  {
   "cell_type": "code",
   "execution_count": 6,
   "id": "8e56af9c",
   "metadata": {},
   "outputs": [
    {
     "name": "stdout",
     "output_type": "stream",
     "text": [
      "Hello Singapore! I'm learning Python.\n"
     ]
    }
   ],
   "source": [
    "print(p + \" \" + pp)"
   ]
  },
  {
   "cell_type": "code",
   "execution_count": 7,
   "id": "d80230b4",
   "metadata": {},
   "outputs": [
    {
     "name": "stdout",
     "output_type": "stream",
     "text": [
      "20.2\n"
     ]
    }
   ],
   "source": [
    "print(q + r)"
   ]
  },
  {
   "cell_type": "code",
   "execution_count": 10,
   "id": "6d56ca01",
   "metadata": {},
   "outputs": [
    {
     "name": "stdout",
     "output_type": "stream",
     "text": [
      "0\n",
      "1\n",
      "2\n",
      "3\n",
      "4\n",
      "5\n",
      "6\n",
      "7\n",
      "8\n",
      "9\n"
     ]
    }
   ],
   "source": [
    "for num in range(10):\n",
    "    print(num)"
   ]
  },
  {
   "cell_type": "code",
   "execution_count": 11,
   "id": "3c0f225a",
   "metadata": {},
   "outputs": [
    {
     "name": "stdout",
     "output_type": "stream",
     "text": [
      "[0, 1, 2, 3, 4, 5, 6, 7, 8, 9]\n"
     ]
    }
   ],
   "source": [
    "number_list = list(range(10))\n",
    "print(number_list)"
   ]
  },
  {
   "cell_type": "code",
   "execution_count": 26,
   "id": "226cfd75",
   "metadata": {},
   "outputs": [
    {
     "name": "stdout",
     "output_type": "stream",
     "text": [
      "[1, 3, 5, 7, 9]\n"
     ]
    }
   ],
   "source": [
    "number_list = list(range(1, 10, 2))\n",
    "print(number_list)"
   ]
  },
  {
   "cell_type": "code",
   "execution_count": 12,
   "id": "ddc0abdd",
   "metadata": {},
   "outputs": [
    {
     "name": "stdout",
     "output_type": "stream",
     "text": [
      "[20, 18, 16, 14, 12]\n"
     ]
    }
   ],
   "source": [
    "number_list = list(range(20, 11, -2))\n",
    "print(number_list)"
   ]
  },
  {
   "cell_type": "code",
   "execution_count": 14,
   "id": "bd40ad27",
   "metadata": {},
   "outputs": [
    {
     "name": "stdout",
     "output_type": "stream",
     "text": [
      "['data', 'and', 'book', 'structure', 'hello', 'st']\n"
     ]
    }
   ],
   "source": [
    "b = [\"data\", \"and\", \"book\", \"structure\", \"hello\", \"st\"]\n",
    "print(b)"
   ]
  },
  {
   "cell_type": "code",
   "execution_count": 15,
   "id": "487cbb88",
   "metadata": {},
   "outputs": [
    {
     "name": "stdout",
     "output_type": "stream",
     "text": [
      "['data', 'and', 'book', 'structure', 'hello', 'st', '32']\n"
     ]
    }
   ],
   "source": [
    "b.append(\"32\") # or b+=[32]\n",
    "print(b)"
   ]
  },
  {
   "cell_type": "code",
   "execution_count": 16,
   "id": "caeb71bc",
   "metadata": {},
   "outputs": [
    {
     "name": "stdout",
     "output_type": "stream",
     "text": [
      "['book']\n"
     ]
    }
   ],
   "source": [
    "print(b[2:3])"
   ]
  },
  {
   "cell_type": "code",
   "execution_count": 42,
   "id": "e9056de5",
   "metadata": {},
   "outputs": [
    {
     "name": "stdout",
     "output_type": "stream",
     "text": [
      "['data', 'and', 'structure', 'hello', 'st', '32']\n"
     ]
    }
   ],
   "source": [
    "print(b)\n",
    "# removed third item with del b[2]\n",
    "# or use b[2:3] = []"
   ]
  },
  {
   "cell_type": "code",
   "execution_count": 43,
   "id": "a63f8ff3",
   "metadata": {},
   "outputs": [
    {
     "data": {
      "text/plain": [
       "'data'"
      ]
     },
     "execution_count": 43,
     "metadata": {},
     "output_type": "execute_result"
    }
   ],
   "source": [
    "b.pop(0)"
   ]
  },
  {
   "cell_type": "code",
   "execution_count": 44,
   "id": "4eafc20d",
   "metadata": {},
   "outputs": [
    {
     "name": "stdout",
     "output_type": "stream",
     "text": [
      "['and', 'structure', 'hello', 'st', '32']\n"
     ]
    }
   ],
   "source": [
    "print(b)"
   ]
  },
  {
   "cell_type": "code",
   "execution_count": 59,
   "id": "7f98d7a4",
   "metadata": {},
   "outputs": [
    {
     "name": "stdout",
     "output_type": "stream",
     "text": [
      "At least one number is greater than 0\n",
      "Both numbers are not more than zero\n"
     ]
    }
   ],
   "source": [
    "a = 32\n",
    "b = -32\n",
    "if a or b > 0:\n",
    "    print(\"At least one number is greater than 0\")\n",
    "    \n",
    "if a and b > 0: \n",
    "    print(\"Both numbers more than zero\")\n",
    "else:\n",
    "    print(\"Both numbers are not more than zero\")"
   ]
  },
  {
   "cell_type": "code",
   "execution_count": 46,
   "id": "41803b1c",
   "metadata": {},
   "outputs": [
    {
     "name": "stdout",
     "output_type": "stream",
     "text": [
      "<class 'dict'>\n"
     ]
    }
   ],
   "source": [
    "person = {}\n",
    "print(type(person))\n",
    "# empty set use set()"
   ]
  },
  {
   "cell_type": "code",
   "execution_count": 47,
   "id": "301ced9c",
   "metadata": {},
   "outputs": [
    {
     "name": "stdout",
     "output_type": "stream",
     "text": [
      "Jacky\n"
     ]
    }
   ],
   "source": [
    "person['firstname'] = 'Jacky'\n",
    "person['lastname'] = 'Chan'\n",
    "person['age'] = 69\n",
    "person['address'] = 'Hong Kong'\n",
    "\n",
    "print(person['firstname'])"
   ]
  },
  {
   "cell_type": "code",
   "execution_count": 50,
   "id": "5514d2a4",
   "metadata": {},
   "outputs": [
    {
     "name": "stdout",
     "output_type": "stream",
     "text": [
      "Select Operation\n",
      "1. Add\n",
      "2. Subtract\n",
      "3. Multiply\n",
      "4. Divide\n",
      "Enter choice (1/2/3/4): 4\n",
      "Enter the first number: 2\n",
      "Enter the second number: 3\n",
      "2.0 / 3.0 = 0.6666666666666666\n"
     ]
    }
   ],
   "source": [
    "# Simple Calculator\n",
    "\n",
    "def add(x, y):\n",
    "    return x + y\n",
    "\n",
    "def subtract(x, y):\n",
    "    return x-y\n",
    "\n",
    "def multiply(x, y):\n",
    "    return x*y\n",
    "\n",
    "def divide(x, y):\n",
    "    if y != 0:\n",
    "        return x/y\n",
    "    else:\n",
    "        return \"Cannot divide by zero.\"\n",
    "    \n",
    "print(\"Select Operation\")\n",
    "print(\"1. Add\")\n",
    "print(\"2. Subtract\")\n",
    "print(\"3. Multiply\")\n",
    "print(\"4. Divide\")\n",
    "\n",
    "choice = input(\"Enter choice (1/2/3/4): \")\n",
    "\n",
    "num1 = float(input(\"Enter the first number: \"))\n",
    "num2 = float(input(\"Enter the second number: \"))\n",
    "\n",
    "if choice == '1':\n",
    "    print(num1, \"+\", num2, \"=\", add(num1, num2))\n",
    "    \n",
    "elif choice == '2':\n",
    "    print(num1, \"-\", num2, \"=\", subtract(num1, num2))\n",
    "    \n",
    "elif choice == '3':\n",
    "    print(num1, \"*\", num2, \"=\", multiply(num1, num2))\n",
    "    \n",
    "elif choice == '4':\n",
    "    print(num1, \"/\", num2, \"=\", divide(num1, num2))\n",
    "    \n",
    "else:\n",
    "    print(\"Invalid input\")"
   ]
  },
  {
   "cell_type": "code",
   "execution_count": 22,
   "id": "3a81bb0e",
   "metadata": {},
   "outputs": [
    {
     "name": "stdout",
     "output_type": "stream",
     "text": [
      "Guess a number: 2\n",
      "Too low\n",
      "Guess a number: 30\n",
      "Too high\n",
      "Guess a number: 25\n",
      "Too high\n",
      "Guess a number: 22\n",
      "Too high\n",
      "Guess a number: 10\n",
      "Too low\n",
      "Guess a number: 16\n",
      "Too high\n",
      "Guess a number: 15\n",
      "Too high\n",
      "Guess a number: 14\n",
      "Too high\n",
      "Guess a number: 13\n",
      "Too high\n",
      "Guess a number: 12\n",
      "Too high\n",
      "Guess a number: 11\n",
      "You guessed correctly\n"
     ]
    }
   ],
   "source": [
    "import random\n",
    "\n",
    "randomint = random.randint(1,100)\n",
    "\n",
    "inputint = None\n",
    "\n",
    "while inputint != randomint:\n",
    "    inputint = int(input(\"Guess a number: \"))\n",
    "    if inputint > randomint:\n",
    "        print(\"Too high\")\n",
    "    elif inputint < randomint:\n",
    "        print(\"Too low\")\n",
    "\n",
    "print(\"You guessed correctly\")"
   ]
  },
  {
   "cell_type": "code",
   "execution_count": 60,
   "id": "a106680b",
   "metadata": {},
   "outputs": [
    {
     "name": "stdout",
     "output_type": "stream",
     "text": [
      "Enter a value for n: 10\n",
      "The first 10 numbers in the fibonacci sequence:\n",
      "[0, 1, 1, 2, 3, 5, 8, 13, 21, 34]\n"
     ]
    }
   ],
   "source": [
    "# Fibonacci sequence\n",
    "def fibonacci_sequence(n):\n",
    "    sequence = [0, 1]\n",
    "    \n",
    "    for i in range(2, n):\n",
    "        next_number = sequence[i - 1] + sequence[i - 2]\n",
    "        sequence.append(next_number)\n",
    "        \n",
    "    return sequence\n",
    "\n",
    "n = int(input(\"Enter a value for n: \"))\n",
    "fib_sequence = fibonacci_sequence(n)\n",
    "\n",
    "print(f\"The first {n} numbers in the fibonacci sequence:\")\n",
    "print(fib_sequence)"
   ]
  },
  {
   "cell_type": "code",
   "execution_count": 23,
   "id": "6fb19f0f",
   "metadata": {},
   "outputs": [
    {
     "name": "stdout",
     "output_type": "stream",
     "text": [
      "Enter a string: yey\n",
      "String entered is a palindrome\n"
     ]
    }
   ],
   "source": [
    "def is_palindrome(s):\n",
    "    s = s.lower()\n",
    "    s = ''.join(e for e in s)\n",
    "    return s == s[::-1]\n",
    "\n",
    "userinput = input(\"Enter a string: \")\n",
    "\n",
    "if is_palindrome(userinput):\n",
    "    print(\"String entered is a palindrome\")\n",
    "else:\n",
    "    print(\"String entered is not a palindrome\")"
   ]
  }
 ],
 "metadata": {
  "kernelspec": {
   "display_name": "Python 3 (ipykernel)",
   "language": "python",
   "name": "python3"
  },
  "language_info": {
   "codemirror_mode": {
    "name": "ipython",
    "version": 3
   },
   "file_extension": ".py",
   "mimetype": "text/x-python",
   "name": "python",
   "nbconvert_exporter": "python",
   "pygments_lexer": "ipython3",
   "version": "3.9.12"
  }
 },
 "nbformat": 4,
 "nbformat_minor": 5
}
